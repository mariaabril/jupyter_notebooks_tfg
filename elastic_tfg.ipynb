{
 "cells": [
  {
   "cell_type": "markdown",
   "metadata": {},
   "source": [
    "# Elastic Search \n",
    "in this notebook we will have all the basic ES commands"
   ]
  },
  {
   "cell_type": "code",
   "execution_count": 1,
   "metadata": {},
   "outputs": [
    {
     "data": {
      "text/html": [
       "<style>.container { width:100% !important; }</style>"
      ],
      "text/plain": [
       "<IPython.core.display.HTML object>"
      ]
     },
     "metadata": {},
     "output_type": "display_data"
    },
    {
     "name": "stderr",
     "output_type": "stream",
     "text": [
      "C:\\Users\\Maria\\anaconda3\\lib\\site-packages\\requests\\__init__.py:89: RequestsDependencyWarning: urllib3 (1.26.8) or chardet (3.0.4) doesn't match a supported version!\n",
      "  warnings.warn(\"urllib3 ({}) or chardet ({}) doesn't match a supported \"\n"
     ]
    }
   ],
   "source": [
    "from IPython.core.display import display, HTML\n",
    "display(HTML(\"<style>.container { width:100% !important; }</style>\"))\n",
    "\n",
    "from elasticsearch import Elasticsearch\n",
    "import urllib3\n",
    "\n",
    "urllib3.disable_warnings()"
   ]
  },
  {
   "cell_type": "code",
   "execution_count": 2,
   "metadata": {},
   "outputs": [],
   "source": [
    "elastic = Elasticsearch(hosts=['http://127.0.0.1:9200/'])"
   ]
  },
  {
   "cell_type": "code",
   "execution_count": 3,
   "metadata": {},
   "outputs": [],
   "source": [
    "def print_response(response):\n",
    "    if 'acknowledged' in response:\n",
    "        if response['acknowledged'] == True:\n",
    "            print (\"INDEX MAPPING SUCCESS FOR INDEX:\", response['index'])\n",
    "\n",
    "    # catch API error response\n",
    "    elif 'error' in response:\n",
    "        print (\"ERROR:\", response['error']['root_cause'])\n",
    "        print (\"TYPE:\", response['error']['type'])\n",
    "\n",
    "        \n",
    "def delete_index(index_name):\n",
    "    response = elastic.indices.delete(\n",
    "    index=index_name,\n",
    "    ignore=400 # ignore 400 already exists code\n",
    "    )\n",
    "    print_response(response)\n",
    "    \n",
    "    \n",
    "def create_index(index_name, mapping):\n",
    "    response = elastic.indices.create(\n",
    "        index=index_name,\n",
    "        body=mapping,\n",
    "        ignore=400 # ignore 400 already exists code\n",
    "    )\n",
    "    print_response(response)"
   ]
  },
  {
   "cell_type": "code",
   "execution_count": 4,
   "metadata": {},
   "outputs": [],
   "source": [
    "mapping_fuel = {\n",
    "    \"mappings\": {\n",
    "        \"properties\": {\n",
    "            \"device_id\": {\n",
    "                \"type\": \"text\"\n",
    "            },\n",
    "            \"date\": {\n",
    "               \"type\":   \"date\",\n",
    "                \"format\": \"yyyy/MM/dd\"\n",
    "            },\n",
    "            \"diff_fuel\": {\n",
    "                \"type\": \"double\"\n",
    "            },\n",
    "            \"distance\": {\n",
    "                \"type\": \"double\"\n",
    "            }\n",
    "        }\n",
    "    }\n",
    "}"
   ]
  },
  {
   "cell_type": "code",
   "execution_count": 5,
   "metadata": {},
   "outputs": [],
   "source": [
    "mapping_fleet = {\n",
    "    \"mappings\": {\n",
    "        \"properties\": {\n",
    "            \"type\": {\n",
    "                \"type\": \"text\"\n",
    "            },\n",
    "            \"device_id\": {\n",
    "                \"type\": \"keyword\",\n",
    "                \"ignore_above\": 10 \n",
    "            },\n",
    "            \"date\": {\n",
    "                \"type\": \"date\",\n",
    "                \"format\": \"yyyy/MM/dd\"\n",
    "            },\n",
    "            \"speed\": {\n",
    "                \"type\": \"float\"\n",
    "            },\n",
    "            \"distance\": {\n",
    "                \"type\": \"double\"\n",
    "            },\n",
    "            \"driving_time\": {\n",
    "                \"type\": \"double\"\n",
    "            },\n",
    "            \"tunnel\": {\n",
    "                \"type\": \"boolean\"\n",
    "            }\n",
    "        }\n",
    "    }\n",
    "}"
   ]
  },
  {
   "cell_type": "code",
   "execution_count": 6,
   "metadata": {},
   "outputs": [],
   "source": [
    "mapping_exceptions = {\n",
    "    \"settings\": {\n",
    "        \"index\": {\n",
    "              \"sort.field\": [\"date\", \"device_id\"], \n",
    "              \"sort.order\": [\"asc\", \"asc\"]  \n",
    "        }\n",
    "    },\n",
    "    \"mappings\": {\n",
    "        \"properties\": {\n",
    "            \"device_id\": {\n",
    "                \"type\": \"keyword\",\n",
    "                \"ignore_above\": 10 \n",
    "            },\n",
    "            \"date\": {\n",
    "                \"type\":   \"date\",\n",
    "                \"format\": \"yyyy/MM/dd\"\n",
    "            },\n",
    "            \"type_exception\": {\n",
    "                \"type\": \"text\"\n",
    "            },\n",
    "            \"coordinates\": {\n",
    "                \"type\": \"geo_point\"\n",
    "            }\n",
    "        }\n",
    "    }\n",
    "}"
   ]
  },
  {
   "cell_type": "code",
   "execution_count": 9,
   "metadata": {},
   "outputs": [
    {
     "name": "stderr",
     "output_type": "stream",
     "text": [
      "<ipython-input-3-e134fa05363a>:21: DeprecationWarning: Passing transport options in the API method is deprecated. Use 'Elasticsearch.options()' instead.\n",
      "  response = elastic.indices.create(\n",
      "<ipython-input-3-e134fa05363a>:21: DeprecationWarning: The 'body' parameter is deprecated and will be removed in a future version. Instead use individual parameters.\n",
      "  response = elastic.indices.create(\n"
     ]
    },
    {
     "name": "stdout",
     "output_type": "stream",
     "text": [
      "INDEX MAPPING SUCCESS FOR INDEX: fleet_index\n"
     ]
    }
   ],
   "source": [
    "#delete_index('fleet_index')\n",
    "create_index('fleet_index', mapping_fleet)"
   ]
  },
  {
   "cell_type": "code",
   "execution_count": 12,
   "metadata": {},
   "outputs": [
    {
     "name": "stderr",
     "output_type": "stream",
     "text": [
      "<ipython-input-8-e134fa05363a>:21: DeprecationWarning: Passing transport options in the API method is deprecated. Use 'Elasticsearch.options()' instead.\n",
      "  response = elastic.indices.create(\n",
      "<ipython-input-8-e134fa05363a>:21: DeprecationWarning: The 'body' parameter is deprecated and will be removed in a future version. Instead use individual parameters.\n",
      "  response = elastic.indices.create(\n"
     ]
    },
    {
     "name": "stdout",
     "output_type": "stream",
     "text": [
      "INDEX MAPPING SUCCESS FOR INDEX: fuel_index\n"
     ]
    }
   ],
   "source": [
    "create_index('fuel_index', mapping_fuel)"
   ]
  },
  {
   "cell_type": "code",
   "execution_count": null,
   "metadata": {},
   "outputs": [],
   "source": []
  }
 ],
 "metadata": {
  "kernelspec": {
   "display_name": "Python 3",
   "language": "python",
   "name": "python3"
  },
  "language_info": {
   "codemirror_mode": {
    "name": "ipython",
    "version": 3
   },
   "file_extension": ".py",
   "mimetype": "text/x-python",
   "name": "python",
   "nbconvert_exporter": "python",
   "pygments_lexer": "ipython3",
   "version": "3.8.5"
  }
 },
 "nbformat": 4,
 "nbformat_minor": 5
}
